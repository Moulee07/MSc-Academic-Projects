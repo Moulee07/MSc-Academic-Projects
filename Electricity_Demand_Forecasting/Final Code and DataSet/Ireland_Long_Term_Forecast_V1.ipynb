{
 "cells": [
  {
   "cell_type": "code",
   "execution_count": 1,
   "id": "8a16c756",
   "metadata": {
    "executionInfo": {
     "elapsed": 3104,
     "status": "ok",
     "timestamp": 1714049426407,
     "user": {
      "displayName": "Sathya Jayagopi",
      "userId": "02756045663324277166"
     },
     "user_tz": -60
    },
    "id": "8a16c756"
   },
   "outputs": [
    {
     "ename": "ModuleNotFoundError",
     "evalue": "No module named 'plotly'",
     "output_type": "error",
     "traceback": [
      "\u001b[1;31m---------------------------------------------------------------------------\u001b[0m",
      "\u001b[1;31mModuleNotFoundError\u001b[0m                       Traceback (most recent call last)",
      "Cell \u001b[1;32mIn[1], line 4\u001b[0m\n\u001b[0;32m      2\u001b[0m \u001b[38;5;66;03m#Source: https://www.seai.ie/data-and-insights/seai-statistics/monthly-energy-data/electricity/\u001b[39;00m\n\u001b[0;32m      3\u001b[0m \u001b[38;5;28;01mimport\u001b[39;00m \u001b[38;5;21;01mnumpy\u001b[39;00m \u001b[38;5;28;01mas\u001b[39;00m \u001b[38;5;21;01mnp\u001b[39;00m\n\u001b[1;32m----> 4\u001b[0m \u001b[38;5;28;01mimport\u001b[39;00m \u001b[38;5;21;01mplotly\u001b[39;00m\u001b[38;5;21;01m.\u001b[39;00m\u001b[38;5;21;01mexpress\u001b[39;00m \u001b[38;5;28;01mas\u001b[39;00m \u001b[38;5;21;01mpx\u001b[39;00m\n\u001b[0;32m      5\u001b[0m \u001b[38;5;28;01mfrom\u001b[39;00m \u001b[38;5;21;01msklearn\u001b[39;00m\u001b[38;5;21;01m.\u001b[39;00m\u001b[38;5;21;01mlinear_model\u001b[39;00m \u001b[38;5;28;01mimport\u001b[39;00m LinearRegression\n\u001b[0;32m      6\u001b[0m \u001b[38;5;28;01mfrom\u001b[39;00m \u001b[38;5;21;01msklearn\u001b[39;00m\u001b[38;5;21;01m.\u001b[39;00m\u001b[38;5;21;01mmodel_selection\u001b[39;00m \u001b[38;5;28;01mimport\u001b[39;00m train_test_split\n",
      "\u001b[1;31mModuleNotFoundError\u001b[0m: No module named 'plotly'"
     ]
    }
   ],
   "source": [
    "import pandas as pd\n",
    "#Source: https://www.seai.ie/data-and-insights/seai-statistics/monthly-energy-data/electricity/\n",
    "import numpy as np\n",
    "import plotly.express as px\n",
    "from sklearn.linear_model import LinearRegression\n",
    "from sklearn.model_selection import train_test_split\n",
    "import plotly.express as px\n",
    "import plotly.graph_objects as go\n",
    "import scipy.stats as stats\n",
    "from statsmodels.tsa.statespace.sarimax import SARIMAX\n",
    "from plotly.subplots import make_subplots\n",
    "import numpy as np"
   ]
  },
  {
   "cell_type": "code",
   "execution_count": 2,
   "id": "7732e056",
   "metadata": {
    "colab": {
     "base_uri": "https://localhost:8080/",
     "height": 347
    },
    "executionInfo": {
     "elapsed": 14,
     "status": "error",
     "timestamp": 1714049426407,
     "user": {
      "displayName": "Sathya Jayagopi",
      "userId": "02756045663324277166"
     },
     "user_tz": -60
    },
    "id": "7732e056",
    "outputId": "1c6c90a9-9298-48f4-8ba0-a4728d35d274"
   },
   "outputs": [
    {
     "ename": "FileNotFoundError",
     "evalue": "[Errno 2] No such file or directory: 'Ireland_Electricity_Monthly_Transposed.csv'",
     "output_type": "error",
     "traceback": [
      "\u001b[0;31m---------------------------------------------------------------------------\u001b[0m",
      "\u001b[0;31mFileNotFoundError\u001b[0m                         Traceback (most recent call last)",
      "\u001b[0;32m<ipython-input-2-d9117b730bbf>\u001b[0m in \u001b[0;36m<cell line: 1>\u001b[0;34m()\u001b[0m\n\u001b[0;32m----> 1\u001b[0;31m \u001b[0mtotal_generation_data\u001b[0m \u001b[0;34m=\u001b[0m \u001b[0mpd\u001b[0m\u001b[0;34m.\u001b[0m\u001b[0mread_csv\u001b[0m\u001b[0;34m(\u001b[0m\u001b[0;34m'Ireland_Electricity_Monthly_Transposed.csv'\u001b[0m\u001b[0;34m,\u001b[0m \u001b[0mengine\u001b[0m\u001b[0;34m=\u001b[0m\u001b[0;34m'python'\u001b[0m\u001b[0;34m,\u001b[0m \u001b[0mheader\u001b[0m\u001b[0;34m=\u001b[0m\u001b[0;32mNone\u001b[0m\u001b[0;34m)\u001b[0m\u001b[0;34m\u001b[0m\u001b[0;34m\u001b[0m\u001b[0m\n\u001b[0m\u001b[1;32m      2\u001b[0m \u001b[0mtotal_generation_data\u001b[0m\u001b[0;34m.\u001b[0m\u001b[0mcolumns\u001b[0m \u001b[0;34m=\u001b[0m \u001b[0mtotal_generation_data\u001b[0m\u001b[0;34m.\u001b[0m\u001b[0miloc\u001b[0m\u001b[0;34m[\u001b[0m\u001b[0;36m0\u001b[0m\u001b[0;34m]\u001b[0m  \u001b[0;31m# Set the first row as the header\u001b[0m\u001b[0;34m\u001b[0m\u001b[0;34m\u001b[0m\u001b[0m\n\u001b[1;32m      3\u001b[0m \u001b[0mtotal_generation_data\u001b[0m \u001b[0;34m=\u001b[0m \u001b[0mtotal_generation_data\u001b[0m\u001b[0;34m[\u001b[0m\u001b[0;36m1\u001b[0m\u001b[0;34m:\u001b[0m\u001b[0;34m]\u001b[0m  \u001b[0;31m# Remove the first row\u001b[0m\u001b[0;34m\u001b[0m\u001b[0;34m\u001b[0m\u001b[0m\n\u001b[1;32m      4\u001b[0m \u001b[0mtotal_generation_data\u001b[0m\u001b[0;34m[\u001b[0m\u001b[0;34m'Month_Year'\u001b[0m\u001b[0;34m]\u001b[0m \u001b[0;34m=\u001b[0m \u001b[0mpd\u001b[0m\u001b[0;34m.\u001b[0m\u001b[0mto_datetime\u001b[0m\u001b[0;34m(\u001b[0m\u001b[0mtotal_generation_data\u001b[0m\u001b[0;34m[\u001b[0m\u001b[0;34m'Month_Year'\u001b[0m\u001b[0;34m]\u001b[0m\u001b[0;34m,\u001b[0m \u001b[0mformat\u001b[0m\u001b[0;34m=\u001b[0m\u001b[0;34m'%b-%y'\u001b[0m\u001b[0;34m)\u001b[0m\u001b[0;34m\u001b[0m\u001b[0;34m\u001b[0m\u001b[0m\n",
      "\u001b[0;32m/usr/local/lib/python3.10/dist-packages/pandas/io/parsers/readers.py\u001b[0m in \u001b[0;36mread_csv\u001b[0;34m(filepath_or_buffer, sep, delimiter, header, names, index_col, usecols, dtype, engine, converters, true_values, false_values, skipinitialspace, skiprows, skipfooter, nrows, na_values, keep_default_na, na_filter, verbose, skip_blank_lines, parse_dates, infer_datetime_format, keep_date_col, date_parser, date_format, dayfirst, cache_dates, iterator, chunksize, compression, thousands, decimal, lineterminator, quotechar, quoting, doublequote, escapechar, comment, encoding, encoding_errors, dialect, on_bad_lines, delim_whitespace, low_memory, memory_map, float_precision, storage_options, dtype_backend)\u001b[0m\n\u001b[1;32m    910\u001b[0m     \u001b[0mkwds\u001b[0m\u001b[0;34m.\u001b[0m\u001b[0mupdate\u001b[0m\u001b[0;34m(\u001b[0m\u001b[0mkwds_defaults\u001b[0m\u001b[0;34m)\u001b[0m\u001b[0;34m\u001b[0m\u001b[0;34m\u001b[0m\u001b[0m\n\u001b[1;32m    911\u001b[0m \u001b[0;34m\u001b[0m\u001b[0m\n\u001b[0;32m--> 912\u001b[0;31m     \u001b[0;32mreturn\u001b[0m \u001b[0m_read\u001b[0m\u001b[0;34m(\u001b[0m\u001b[0mfilepath_or_buffer\u001b[0m\u001b[0;34m,\u001b[0m \u001b[0mkwds\u001b[0m\u001b[0;34m)\u001b[0m\u001b[0;34m\u001b[0m\u001b[0;34m\u001b[0m\u001b[0m\n\u001b[0m\u001b[1;32m    913\u001b[0m \u001b[0;34m\u001b[0m\u001b[0m\n\u001b[1;32m    914\u001b[0m \u001b[0;34m\u001b[0m\u001b[0m\n",
      "\u001b[0;32m/usr/local/lib/python3.10/dist-packages/pandas/io/parsers/readers.py\u001b[0m in \u001b[0;36m_read\u001b[0;34m(filepath_or_buffer, kwds)\u001b[0m\n\u001b[1;32m    575\u001b[0m \u001b[0;34m\u001b[0m\u001b[0m\n\u001b[1;32m    576\u001b[0m     \u001b[0;31m# Create the parser.\u001b[0m\u001b[0;34m\u001b[0m\u001b[0;34m\u001b[0m\u001b[0m\n\u001b[0;32m--> 577\u001b[0;31m     \u001b[0mparser\u001b[0m \u001b[0;34m=\u001b[0m \u001b[0mTextFileReader\u001b[0m\u001b[0;34m(\u001b[0m\u001b[0mfilepath_or_buffer\u001b[0m\u001b[0;34m,\u001b[0m \u001b[0;34m**\u001b[0m\u001b[0mkwds\u001b[0m\u001b[0;34m)\u001b[0m\u001b[0;34m\u001b[0m\u001b[0;34m\u001b[0m\u001b[0m\n\u001b[0m\u001b[1;32m    578\u001b[0m \u001b[0;34m\u001b[0m\u001b[0m\n\u001b[1;32m    579\u001b[0m     \u001b[0;32mif\u001b[0m \u001b[0mchunksize\u001b[0m \u001b[0;32mor\u001b[0m \u001b[0miterator\u001b[0m\u001b[0;34m:\u001b[0m\u001b[0;34m\u001b[0m\u001b[0;34m\u001b[0m\u001b[0m\n",
      "\u001b[0;32m/usr/local/lib/python3.10/dist-packages/pandas/io/parsers/readers.py\u001b[0m in \u001b[0;36m__init__\u001b[0;34m(self, f, engine, **kwds)\u001b[0m\n\u001b[1;32m   1405\u001b[0m \u001b[0;34m\u001b[0m\u001b[0m\n\u001b[1;32m   1406\u001b[0m         \u001b[0mself\u001b[0m\u001b[0;34m.\u001b[0m\u001b[0mhandles\u001b[0m\u001b[0;34m:\u001b[0m \u001b[0mIOHandles\u001b[0m \u001b[0;34m|\u001b[0m \u001b[0;32mNone\u001b[0m \u001b[0;34m=\u001b[0m \u001b[0;32mNone\u001b[0m\u001b[0;34m\u001b[0m\u001b[0;34m\u001b[0m\u001b[0m\n\u001b[0;32m-> 1407\u001b[0;31m         \u001b[0mself\u001b[0m\u001b[0;34m.\u001b[0m\u001b[0m_engine\u001b[0m \u001b[0;34m=\u001b[0m \u001b[0mself\u001b[0m\u001b[0;34m.\u001b[0m\u001b[0m_make_engine\u001b[0m\u001b[0;34m(\u001b[0m\u001b[0mf\u001b[0m\u001b[0;34m,\u001b[0m \u001b[0mself\u001b[0m\u001b[0;34m.\u001b[0m\u001b[0mengine\u001b[0m\u001b[0;34m)\u001b[0m\u001b[0;34m\u001b[0m\u001b[0;34m\u001b[0m\u001b[0m\n\u001b[0m\u001b[1;32m   1408\u001b[0m \u001b[0;34m\u001b[0m\u001b[0m\n\u001b[1;32m   1409\u001b[0m     \u001b[0;32mdef\u001b[0m \u001b[0mclose\u001b[0m\u001b[0;34m(\u001b[0m\u001b[0mself\u001b[0m\u001b[0;34m)\u001b[0m \u001b[0;34m->\u001b[0m \u001b[0;32mNone\u001b[0m\u001b[0;34m:\u001b[0m\u001b[0;34m\u001b[0m\u001b[0;34m\u001b[0m\u001b[0m\n",
      "\u001b[0;32m/usr/local/lib/python3.10/dist-packages/pandas/io/parsers/readers.py\u001b[0m in \u001b[0;36m_make_engine\u001b[0;34m(self, f, engine)\u001b[0m\n\u001b[1;32m   1659\u001b[0m                 \u001b[0;32mif\u001b[0m \u001b[0;34m\"b\"\u001b[0m \u001b[0;32mnot\u001b[0m \u001b[0;32min\u001b[0m \u001b[0mmode\u001b[0m\u001b[0;34m:\u001b[0m\u001b[0;34m\u001b[0m\u001b[0;34m\u001b[0m\u001b[0m\n\u001b[1;32m   1660\u001b[0m                     \u001b[0mmode\u001b[0m \u001b[0;34m+=\u001b[0m \u001b[0;34m\"b\"\u001b[0m\u001b[0;34m\u001b[0m\u001b[0;34m\u001b[0m\u001b[0m\n\u001b[0;32m-> 1661\u001b[0;31m             self.handles = get_handle(\n\u001b[0m\u001b[1;32m   1662\u001b[0m                 \u001b[0mf\u001b[0m\u001b[0;34m,\u001b[0m\u001b[0;34m\u001b[0m\u001b[0;34m\u001b[0m\u001b[0m\n\u001b[1;32m   1663\u001b[0m                 \u001b[0mmode\u001b[0m\u001b[0;34m,\u001b[0m\u001b[0;34m\u001b[0m\u001b[0;34m\u001b[0m\u001b[0m\n",
      "\u001b[0;32m/usr/local/lib/python3.10/dist-packages/pandas/io/common.py\u001b[0m in \u001b[0;36mget_handle\u001b[0;34m(path_or_buf, mode, encoding, compression, memory_map, is_text, errors, storage_options)\u001b[0m\n\u001b[1;32m    857\u001b[0m         \u001b[0;32mif\u001b[0m \u001b[0mioargs\u001b[0m\u001b[0;34m.\u001b[0m\u001b[0mencoding\u001b[0m \u001b[0;32mand\u001b[0m \u001b[0;34m\"b\"\u001b[0m \u001b[0;32mnot\u001b[0m \u001b[0;32min\u001b[0m \u001b[0mioargs\u001b[0m\u001b[0;34m.\u001b[0m\u001b[0mmode\u001b[0m\u001b[0;34m:\u001b[0m\u001b[0;34m\u001b[0m\u001b[0;34m\u001b[0m\u001b[0m\n\u001b[1;32m    858\u001b[0m             \u001b[0;31m# Encoding\u001b[0m\u001b[0;34m\u001b[0m\u001b[0;34m\u001b[0m\u001b[0m\n\u001b[0;32m--> 859\u001b[0;31m             handle = open(\n\u001b[0m\u001b[1;32m    860\u001b[0m                 \u001b[0mhandle\u001b[0m\u001b[0;34m,\u001b[0m\u001b[0;34m\u001b[0m\u001b[0;34m\u001b[0m\u001b[0m\n\u001b[1;32m    861\u001b[0m                 \u001b[0mioargs\u001b[0m\u001b[0;34m.\u001b[0m\u001b[0mmode\u001b[0m\u001b[0;34m,\u001b[0m\u001b[0;34m\u001b[0m\u001b[0;34m\u001b[0m\u001b[0m\n",
      "\u001b[0;31mFileNotFoundError\u001b[0m: [Errno 2] No such file or directory: 'Ireland_Electricity_Monthly_Transposed.csv'"
     ]
    }
   ],
   "source": [
    "total_generation_data = pd.read_csv('Ireland_Electricity_Monthly_Transposed.csv', engine='python', header=None)\n",
    "total_generation_data.columns = total_generation_data.iloc[0]  # Set the first row as the header\n",
    "total_generation_data = total_generation_data[1:]  # Remove the first row\n",
    "total_generation_data['Month_Year'] = pd.to_datetime(total_generation_data['Month_Year'], format='%b-%y')"
   ]
  },
  {
   "cell_type": "code",
   "execution_count": null,
   "id": "42d10917",
   "metadata": {
    "executionInfo": {
     "elapsed": 12,
     "status": "aborted",
     "timestamp": 1714049426408,
     "user": {
      "displayName": "Sathya Jayagopi",
      "userId": "02756045663324277166"
     },
     "user_tz": -60
    },
    "id": "42d10917"
   },
   "outputs": [],
   "source": [
    "# Extract year and month for seasonality analysis\n",
    "total_generation_data = total_generation_data[['Month_Year','Total Generation','Hydro','Wind','Solar']]\n",
    "\n",
    "total_generation_data['Total Generation'] = pd.to_numeric(total_generation_data['Total Generation'], errors='coerce')\n",
    "total_generation_data['Hydro'] = pd.to_numeric(total_generation_data['Hydro'], errors='coerce')\n",
    "total_generation_data['Wind'] = pd.to_numeric(total_generation_data['Wind'], errors='coerce')\n",
    "total_generation_data['Solar'] = pd.to_numeric(total_generation_data['Solar'], errors='coerce')\n",
    "\n",
    "\n",
    "# Create a new column 'Total Renewables' by adding 'Hydro', 'Wind', and 'Solar'\n",
    "total_generation_data['Total Renewables'] = (\n",
    "    total_generation_data['Hydro'] +\n",
    "    total_generation_data['Wind'] +\n",
    "    total_generation_data['Solar']\n",
    ")\n",
    "\n",
    "# Calculate the percentage of renewable energy in total generation\n",
    "total_generation_data['Percent Renewable'] = ((total_generation_data['Total Renewables'] / total_generation_data['Total Generation']) * 100).round(1)  # Round to 1 decimal place\n"
   ]
  },
  {
   "cell_type": "code",
   "execution_count": null,
   "id": "b5a29345",
   "metadata": {
    "executionInfo": {
     "elapsed": 11,
     "status": "aborted",
     "timestamp": 1714049426408,
     "user": {
      "displayName": "Sathya Jayagopi",
      "userId": "02756045663324277166"
     },
     "user_tz": -60
    },
    "id": "b5a29345"
   },
   "outputs": [],
   "source": [
    "total_generation_data.columns"
   ]
  },
  {
   "cell_type": "code",
   "execution_count": null,
   "id": "22c946a9",
   "metadata": {
    "executionInfo": {
     "elapsed": 11,
     "status": "aborted",
     "timestamp": 1714049426408,
     "user": {
      "displayName": "Sathya Jayagopi",
      "userId": "02756045663324277166"
     },
     "user_tz": -60
    },
    "id": "22c946a9"
   },
   "outputs": [],
   "source": [
    "total_generation_data.set_index('Month_Year', inplace=True)\n",
    "total_generation_data.head()"
   ]
  },
  {
   "cell_type": "code",
   "execution_count": null,
   "id": "70be4333",
   "metadata": {
    "executionInfo": {
     "elapsed": 11,
     "status": "aborted",
     "timestamp": 1714049426408,
     "user": {
      "displayName": "Sathya Jayagopi",
      "userId": "02756045663324277166"
     },
     "user_tz": -60
    },
    "id": "70be4333"
   },
   "outputs": [],
   "source": [
    "# Plotting Renewable % in Energy mix:\n",
    "\n",
    "# Create a Plotly figure\n",
    "fig = go.Figure()\n",
    "\n",
    "# Add an area plot for 'Total Generation'\n",
    "fig.add_trace(\n",
    "    go.Scatter(\n",
    "        x=total_generation_data.index,\n",
    "        y=total_generation_data['Total Generation'],\n",
    "        fill='tozeroy',  # Create the area effect\n",
    "        mode='lines',  # Line plot with area filling\n",
    "        name='Total Generation',\n",
    "        line=dict(color='rgba(0, 100, 200, 0.5)')  # Adjust line color and transparency\n",
    "    )\n",
    ")\n",
    "\n",
    "# Add an area plot for 'Wind'\n",
    "fig.add_trace(\n",
    "    go.Scatter(\n",
    "        x=total_generation_data.index,\n",
    "        y=total_generation_data['Wind'],\n",
    "        fill='tozeroy',  # Create the area effect\n",
    "        mode='lines',  # Line plot with area filling\n",
    "        name='Wind',\n",
    "        line=dict(color='rgba(0, 200, 100, 0.5)')  # Greenish color\n",
    "    )\n",
    ")\n",
    "\n",
    "# Add an area plot for 'Solar'\n",
    "fig.add_trace(\n",
    "    go.Scatter(\n",
    "        x=total_generation_data.index,\n",
    "        y=total_generation_data['Solar'],\n",
    "        fill='tozeroy',  # Create the area effect\n",
    "        mode='lines',  # Line plot with area filling\n",
    "        name='Solar',\n",
    "        line=dict(color='rgba(255, 0, 0, 0.7)')  # Red color\n",
    "    )\n",
    ")\n",
    "\n",
    "# Update layout with title and axis labels\n",
    "fig.update_layout(\n",
    "    title='Total Electricity Generation, Wind, and Solar in Ireland (GWh)',\n",
    "    xaxis=dict(\n",
    "        title='Month/Year',\n",
    "        showline=True,  # Show the x-axis line\n",
    "        linecolor='black',  # Set the line color to black\n",
    "        showgrid=False,  # Optionally hide grid lines\n",
    "        mirror=True  # Optionally mirror x-axis\n",
    "    ),\n",
    "    yaxis=dict(\n",
    "        title='Electricity Generated in GWh',\n",
    "        showline=True,  # Show the y-axis line\n",
    "        linecolor='black',  # Set the line color to black\n",
    "        showgrid=False,  # Optionally hide grid lines\n",
    "        mirror=True  # Optionally mirror y-axis\n",
    "    ),\n",
    "    plot_bgcolor='white',  # Set the plot background to white\n",
    "    paper_bgcolor='white',  # Set the paper background to white\n",
    "    showlegend=True  # Display legend for trace differentiation\n",
    "\n",
    ")\n",
    "\n",
    "# Show the area chart\n",
    "fig.show()\n",
    "\n"
   ]
  },
  {
   "cell_type": "code",
   "execution_count": null,
   "id": "74e6bfa8",
   "metadata": {
    "executionInfo": {
     "elapsed": 10,
     "status": "aborted",
     "timestamp": 1714049426408,
     "user": {
      "displayName": "Sathya Jayagopi",
      "userId": "02756045663324277166"
     },
     "user_tz": -60
    },
    "id": "74e6bfa8"
   },
   "outputs": [],
   "source": [
    "# Create a Plotly figure for 'Percent Renewable'\n",
    "fig_percent_renewable = go.Figure()\n",
    "\n",
    "# Add a line plot for 'Percent Renewable'\n",
    "fig_percent_renewable.add_trace(\n",
    "    go.Scatter(\n",
    "        x=total_generation_data.index,\n",
    "        y=total_generation_data['Percent Renewable'],\n",
    "        mode='lines+markers',  # Line plot with markers\n",
    "        name='Percent Renewable',\n",
    "        line=dict(color='orange')  # Distinct color\n",
    "    )\n",
    ")\n",
    "\n",
    "# Update layout to set the background to white and show x and y axes\n",
    "fig_percent_renewable.update_layout(\n",
    "    title='Percent Renewable of Total Electricity Generation Over Time in Ireland',\n",
    "    xaxis=dict(\n",
    "        title='Month/Year',\n",
    "        showline=True,  # Show the x-axis line\n",
    "        linecolor='black',  # Set the line color to black\n",
    "        showgrid=False,  # Optionally hide grid lines\n",
    "        mirror=True  # Optionally mirror x-axis\n",
    "    ),\n",
    "    yaxis=dict(\n",
    "        title='Percent Renewable (%)',\n",
    "        showline=True,  # Show the y-axis line\n",
    "        linecolor='black',  # Set the line color to black\n",
    "        showgrid=False,  # Optionally hide grid lines\n",
    "        mirror=True  # Optionally mirror y-axis\n",
    "    ),\n",
    "    plot_bgcolor='white',  # Set the plot background to white\n",
    "    paper_bgcolor='white',  # Set the paper background to white\n",
    "    showlegend=True  # Display legend for trace differentiation\n",
    ")\n",
    "\n",
    "# Show the plot\n",
    "fig_percent_renewable.show()"
   ]
  },
  {
   "cell_type": "code",
   "execution_count": null,
   "id": "2ff404cd",
   "metadata": {
    "executionInfo": {
     "elapsed": 11,
     "status": "aborted",
     "timestamp": 1714049426409,
     "user": {
      "displayName": "Sathya Jayagopi",
      "userId": "02756045663324277166"
     },
     "user_tz": -60
    },
    "id": "2ff404cd"
   },
   "outputs": [],
   "source": [
    "population_data = pd.read_excel('Ireland Population.xlsx')\n",
    "# Source: https://ws.cso.ie/public/api.restful/PxStat.Data.Cube_API.ReadDataset/PEA01/XLSX/2007/en"
   ]
  },
  {
   "cell_type": "code",
   "execution_count": null,
   "id": "ee7bbb81",
   "metadata": {
    "executionInfo": {
     "elapsed": 11,
     "status": "aborted",
     "timestamp": 1714049426409,
     "user": {
      "displayName": "Sathya Jayagopi",
      "userId": "02756045663324277166"
     },
     "user_tz": -60
    },
    "id": "ee7bbb81"
   },
   "outputs": [],
   "source": [
    "population_data = population_data[['Year', 'Population']]  # Assuming these are the correct column names\n",
    "population_data['Year'] = population_data['Year'].astype(int)"
   ]
  },
  {
   "cell_type": "code",
   "execution_count": null,
   "id": "43176301",
   "metadata": {
    "executionInfo": {
     "elapsed": 11,
     "status": "aborted",
     "timestamp": 1714049426409,
     "user": {
      "displayName": "Sathya Jayagopi",
      "userId": "02756045663324277166"
     },
     "user_tz": -60
    },
    "id": "43176301"
   },
   "outputs": [],
   "source": [
    "# Create the primary line plot for total generation\n",
    "# Create the primary line plot for 'Total Generation'\n",
    "fig = go.Figure()\n",
    "fig.add_trace(\n",
    "    go.Scatter(x=total_generation_data.index,\n",
    "               y=total_generation_data['Total Generation'],\n",
    "               name='Total Generation Historical Data')\n",
    ")\n",
    "\n",
    "# Create a secondary line plot for 'Population' on the same graph\n",
    "fig.add_trace(\n",
    "    go.Scatter(x=population_data['Year'],\n",
    "               y=population_data['Population'],\n",
    "               name='Population (in thousands)',\n",
    "               yaxis='y2')\n",
    ")\n",
    "\n",
    "# Update layout to set white background and display axes\n",
    "fig.update_layout(\n",
    "    title='Total Monthly Electricity Generation and Population from 2010.(SARIMAX Forecast) ',\n",
    "    xaxis=dict(\n",
    "        title='Year',\n",
    "        showline=True,  # Show x-axis line\n",
    "        linecolor='black',  # Set the line color\n",
    "        showgrid=True  # Display grid lines\n",
    "    ),\n",
    "    yaxis=dict(\n",
    "        title='Total Generation Monthly in GWh',\n",
    "        showline=True,  # Show y-axis line\n",
    "        linecolor='black',  # Set the line color\n",
    "        showgrid=True  # Display grid lines\n",
    "    ),\n",
    "    yaxis2=dict(\n",
    "        title='Population (in thousands)',\n",
    "        overlaying='y',\n",
    "        side='right',\n",
    "        showline=True,  # Show secondary y-axis\n",
    "        linecolor='black',  # Set the line color\n",
    "        showgrid=False  # Hide grid lines for secondary y-axis\n",
    "    ),\n",
    "    plot_bgcolor='white',  # Set the plot background to white\n",
    "    paper_bgcolor='white',  # Set the paper background to white\n",
    "    showlegend=True,  # Show legend for trace differentiation\n",
    "\n",
    "\n",
    "    width=940,  # Increase plot width\n",
    "    height=600,  # Increase plot height\n",
    "    legend=dict(\n",
    "        x=0.15,  # Center the legend horizontally\n",
    "        y=-0.1,  # Place the legend below the plot\n",
    "        orientation='h'  # Horizontal orientation\n",
    "    )\n",
    ")\n",
    "\n",
    "# Fit the SARIMAX model (using SARIMAX)\n",
    "model = SARIMAX(\n",
    "    total_generation_data['Total Generation'],\n",
    "    order=(1, 1, 1),  # ARIMA parameters (p, d, q)\n",
    "    seasonal_order=(1, 1, 1, 12)  # SARIMA parameters (P, D, Q, s)\n",
    ")\n",
    "\n",
    "# Fit the model and forecast\n",
    "results = model.fit()\n",
    "forecast = results.forecast(steps=36)  # Forecast for 36 months ahead\n",
    "\n",
    "# Create a future timeline for plotting\n",
    "future_dates = pd.date_range(start=total_generation_data.index[-1], periods=36, freq='M')[1:]\n",
    "\n",
    "# Add the SARIMAX forecast to the plot\n",
    "fig.add_trace(\n",
    "    go.Scatter(x=future_dates,\n",
    "               y=forecast,\n",
    "               name='SARIMAX Forecast',\n",
    "               line=dict(dash='dash', color='orange'))\n",
    ")\n",
    "\n",
    "# Show the plot\n",
    "fig.show()"
   ]
  },
  {
   "cell_type": "code",
   "execution_count": null,
   "id": "27ceeef6",
   "metadata": {
    "executionInfo": {
     "elapsed": 10,
     "status": "aborted",
     "timestamp": 1714049426409,
     "user": {
      "displayName": "Sathya Jayagopi",
      "userId": "02756045663324277166"
     },
     "user_tz": -60
    },
    "id": "27ceeef6"
   },
   "outputs": [],
   "source": [
    "yearly_avg_gen = total_generation_data.groupby(total_generation_data.index.year).mean()\n",
    "yearly_avg_gen.head()"
   ]
  },
  {
   "cell_type": "code",
   "execution_count": null,
   "id": "d9180116",
   "metadata": {
    "executionInfo": {
     "elapsed": 11,
     "status": "aborted",
     "timestamp": 1714049426410,
     "user": {
      "displayName": "Sathya Jayagopi",
      "userId": "02756045663324277166"
     },
     "user_tz": -60
    },
    "id": "d9180116"
   },
   "outputs": [],
   "source": [
    "# Merge population data and yearly average generation data on 'Year'\n",
    "combined_data = pd.merge(population_data, yearly_avg_gen, left_on='Year', right_index=True)"
   ]
  },
  {
   "cell_type": "code",
   "execution_count": null,
   "id": "2553e479",
   "metadata": {
    "executionInfo": {
     "elapsed": 11,
     "status": "aborted",
     "timestamp": 1714049426410,
     "user": {
      "displayName": "Sathya Jayagopi",
      "userId": "02756045663324277166"
     },
     "user_tz": -60
    },
    "id": "2553e479"
   },
   "outputs": [],
   "source": [
    "# Calculate year-on-year percentage change for Population\n",
    "combined_data['Population_YoY'] = combined_data['Population'].pct_change() * 100  # Convert to percentage\n",
    "\n",
    "# Calculate year-on-year percentage change for Total Generation\n",
    "combined_data['Total_Generation_YoY'] = combined_data[combined_data.columns[2]].pct_change() * 100  # Convert to percentage\n",
    "\n",
    "# Create a scatter plot to show the relationship between year-on-year growth rates\n",
    "fig = px.scatter(\n",
    "    combined_data,\n",
    "    x='Population_YoY',  # X-axis values\n",
    "    y='Total_Generation_YoY',  # Y-axis values\n",
    "    text='Year',  # Text label to display the year\n",
    "    title='Year-on-Year Growth in Population and Total Electricity Generation YoY Growth',\n",
    "    labels={'x': 'Population YoY (%)', 'y': 'Total Generation YoY (%)'}  # Axis labels\n",
    ")\n",
    "\n",
    "# Adding labels to points for better identification\n",
    "fig.update_traces(textposition='top center')\n",
    "\n",
    "# Add a horizontal line at 'y=0'\n",
    "fig.add_shape(\n",
    "    go.layout.Shape(\n",
    "        type='line',\n",
    "        x0=0,  # Start of the line\n",
    "        y0=0,  # Y-position of the line\n",
    "        x1=2,  # End of the line (adjust as needed)\n",
    "        y1=0,  # Horizontal line\n",
    "        line=dict(color='black', width=2)  # Line color and width\n",
    "    )\n",
    ")\n",
    "\n",
    "# Update layout to move x-axis to 'y=0'\n",
    "fig.update_layout(\n",
    "    plot_bgcolor='white',  # Set the plot background to white\n",
    "    paper_bgcolor='white',  # Set the paper background to white\n",
    "    xaxis=dict(\n",
    "        title='Population YoY (%)',\n",
    "        showline=True,  # Show the x-axis line\n",
    "        linecolor='black',  # Set the line color\n",
    "        anchor='y',  # Anchors the x-axis to the 'y=0' position\n",
    "        zeroline=True,  # Show zero line\n",
    "        zerolinecolor='black',  # Set zero line color\n",
    "        zerolinewidth=2  # Set zero line width\n",
    "    ),\n",
    "    yaxis=dict(\n",
    "        title='Total Electricity Generation YoY (%)',\n",
    "        showline=True,  # Show the y-axis line\n",
    "        linecolor='black',  # Set the line color\n",
    "        showgrid=True,  # Display grid lines for y-axis\n",
    "        range=[-4, 4],  # Adjust y-axis range\n",
    "        zeroline=True,  # Show zero line\n",
    "        zerolinecolor='black',  # Set zero line color\n",
    "        zerolinewidth=2,  # Set zero line width\n",
    "        fixedrange=False,  # Allow zooming on y-axis\n",
    "    ),\n",
    "    height=660,  # Adjust plot height\n",
    "    width=920,  # Adjust plot width\n",
    ")"
   ]
  },
  {
   "cell_type": "code",
   "execution_count": null,
   "id": "4b80021a",
   "metadata": {
    "executionInfo": {
     "elapsed": 11,
     "status": "aborted",
     "timestamp": 1714049426410,
     "user": {
      "displayName": "Sathya Jayagopi",
      "userId": "02756045663324277166"
     },
     "user_tz": -60
    },
    "id": "4b80021a"
   },
   "outputs": [],
   "source": [
    "combined_data.head()"
   ]
  },
  {
   "cell_type": "code",
   "execution_count": null,
   "id": "8774f726",
   "metadata": {
    "executionInfo": {
     "elapsed": 11,
     "status": "aborted",
     "timestamp": 1714049426410,
     "user": {
      "displayName": "Sathya Jayagopi",
      "userId": "02756045663324277166"
     },
     "user_tz": -60
    },
    "id": "8774f726"
   },
   "outputs": [],
   "source": [
    "combined_data.columns"
   ]
  },
  {
   "cell_type": "code",
   "execution_count": null,
   "id": "d33380d1",
   "metadata": {
    "executionInfo": {
     "elapsed": 11,
     "status": "aborted",
     "timestamp": 1714049426410,
     "user": {
      "displayName": "Sathya Jayagopi",
      "userId": "02756045663324277166"
     },
     "user_tz": -60
    },
    "id": "d33380d1"
   },
   "outputs": [],
   "source": [
    "combined_data.tail()"
   ]
  },
  {
   "cell_type": "code",
   "execution_count": null,
   "id": "487c43b2",
   "metadata": {
    "executionInfo": {
     "elapsed": 10,
     "status": "aborted",
     "timestamp": 1714049426410,
     "user": {
      "displayName": "Sathya Jayagopi",
      "userId": "02756045663324277166"
     },
     "user_tz": -60
    },
    "id": "487c43b2"
   },
   "outputs": [],
   "source": [
    "# Remove rows with NaNs in 'Population_YoY' and 'Total_Generation_YoY'\n",
    "combined_data.dropna(subset=['Population_YoY', 'Total_Generation_YoY'], inplace=True)\n",
    "\n",
    "# Calculate the Pearson correlation between 'Population_YoY' and 'Total_Generation_YoY'\n",
    "correlation, p_value = stats.pearsonr(combined_data['Population_YoY'], combined_data['Total_Generation_YoY'])\n",
    "\n",
    "print(\"Correlation between Population YoY and Total Generation YoY:\", correlation)\n",
    "print(\"P-value for significance:\", p_value)\n"
   ]
  },
  {
   "cell_type": "code",
   "execution_count": null,
   "id": "2c9c0c55",
   "metadata": {
    "executionInfo": {
     "elapsed": 10,
     "status": "aborted",
     "timestamp": 1714049426410,
     "user": {
      "displayName": "Sathya Jayagopi",
      "userId": "02756045663324277166"
     },
     "user_tz": -60
    },
    "id": "2c9c0c55"
   },
   "outputs": [],
   "source": [
    "# Develop a linear regression model to predict 'Total_Generation_YoY' based on 'Population_YoY'\n",
    "X = combined_data[['Population_YoY']]  # Predictor variable\n",
    "y = combined_data['Total_Generation_YoY']  # Target variable\n",
    "\n",
    "# Ensure there are no NaNs in X and y before fitting the regression model\n",
    "if X.isnull().any().any() or y.isnull().any():\n",
    "    raise ValueError(\"Input data contains NaNs or infinite values.\")\n",
    "\n",
    "regressor = LinearRegression()\n",
    "regressor.fit(X, y)  # Fit the linear regression model\n",
    "\n",
    "# Coefficients for the linear regression model\n",
    "print(\"Linear Regression Coefficients:\", regressor.coef_, \"Intercept:\", regressor.intercept_)\n",
    "\n",
    "# Predict 'Total Generation YoY' for 2024 and 2025 with a given population growth rate\n",
    "population_growth_rate = 2  # 2% growth rate\n",
    "\n",
    "# Create a DataFrame for prediction\n",
    "prediction_df = pd.DataFrame({\n",
    "    'Year': [2024, 2025],\n",
    "    'Population_YoY': [population_growth_rate, population_growth_rate]\n",
    "})\n",
    "\n",
    "# Predict the 'Total_Generation_YoY' for the given years\n",
    "prediction_df['Total_Generation_YoY'] = regressor.predict(prediction_df[['Population_YoY']])\n",
    "\n",
    "# Calculate 'Total Generation' for 2024 and 2025 based on predicted 'Total_Generation_YoY'\n",
    "last_total_generation = combined_data['Total Generation'].iloc[-1]  # Last known value\n",
    "\n",
    "# Calculate 'Total_Generation' for 2024 based on predicted YoY change\n",
    "prediction_df.loc[prediction_df['Year'] == 2024, 'Total_Generation'] = last_total_generation * (\n",
    "    1 + prediction_df.loc[prediction_df['Year'] == 2024, 'Total_Generation_YoY'].values[0] / 100\n",
    ")\n",
    "\n",
    "# Calculate 'Total_Generation' for 2025 based on the 2024 calculated value\n",
    "base_2024 = prediction_df.loc[prediction_df['Year'] == 2024, 'Total_Generation'].values[0]\n",
    "prediction_df.loc[prediction_df['Year'] == 2025, 'Total_Generation'] = base_2024 * (\n",
    "    1 + prediction_df.loc[prediction_df['Year'] == 2025, 'Total_Generation_YoY'].values[0] / 100\n",
    ")\n",
    "\n",
    "print(\"Predicted Total Generation for 2024 and 2025:\")\n",
    "print(prediction_df[['Year', 'Total_Generation']])"
   ]
  },
  {
   "cell_type": "code",
   "execution_count": null,
   "id": "7ecc471c",
   "metadata": {
    "executionInfo": {
     "elapsed": 11,
     "status": "aborted",
     "timestamp": 1714049426411,
     "user": {
      "displayName": "Sathya Jayagopi",
      "userId": "02756045663324277166"
     },
     "user_tz": -60
    },
    "id": "7ecc471c"
   },
   "outputs": [],
   "source": [
    "# Create the Plotly figure\n",
    "# Create the Plotly figure\n",
    "fig = go.Figure()\n",
    "\n",
    "# Add historical total generation as a solid line\n",
    "fig.add_trace(go.Scatter(x=combined_data['Year'],\n",
    "                         y=combined_data['Total Generation'],\n",
    "                         mode='lines',\n",
    "                         name='Total Yearly Average Generation Historical'))\n",
    "\n",
    "# Connect the last historical point to the first predicted point with a dashed line\n",
    "connect_point_x = [combined_data['Year'].iloc[-1], prediction_df['Year'].iloc[0]]\n",
    "connect_point_y = [combined_data['Total Generation'].iloc[-1], prediction_df['Total_Generation'].iloc[0]]\n",
    "\n",
    "fig.add_trace(go.Scatter(x=connect_point_x,\n",
    "                         y=connect_point_y,\n",
    "                         mode='lines+markers',\n",
    "                         showlegend=False,  # Hide legend for this trace\n",
    "                         line=dict(dash='dash', color='orange')))\n",
    "\n",
    "# Add predicted total generation for 2024 and 2025\n",
    "fig.add_trace(go.Scatter(x=prediction_df['Year'],\n",
    "                         y=prediction_df['Total_Generation'],\n",
    "                         mode='lines+markers',\n",
    "                         name='Total Generation Predicted',\n",
    "                         line=dict(dash='dash', color='orange')))\n",
    "\n",
    "# Update the layout to achieve your requirements\n",
    "fig.update_layout(\n",
    "    title='Total Yearly Average Electricity Generation (GWh): Historical and Predicted (2024-2025)',\n",
    "    plot_bgcolor='white',  # Set plot background to white\n",
    "    paper_bgcolor='white',  # Set paper background to white\n",
    "    legend=dict(\n",
    "        orientation='h',  # Horizontal orientation\n",
    "        x=0,  # Align legend to the left\n",
    "        y=-0.1  # Position legend at the bottom\n",
    "    ),\n",
    "    xaxis=dict(\n",
    "        title='Year',\n",
    "        showline=True,  # Display x-axis line\n",
    "        linewidth=2,  # Set x-axis line width\n",
    "        linecolor='black',  # Set x-axis line color\n",
    "    ),\n",
    "    yaxis=dict(\n",
    "        title='Total Annual Average Electicity Generation (GWh)',\n",
    "        showline=True,  # Display y-axis line\n",
    "        linewidth=2,  # Set y-axis line width\n",
    "        linecolor='black',  # Set y-axis line color\n",
    "    ),\n",
    "    height=600,  # Set plot height\n",
    "    width=800  # Set plot width\n",
    ")\n",
    "\n",
    "# Show the plot\n",
    "fig.show()"
   ]
  },
  {
   "cell_type": "code",
   "execution_count": null,
   "id": "69b4de96",
   "metadata": {
    "executionInfo": {
     "elapsed": 11,
     "status": "aborted",
     "timestamp": 1714049426411,
     "user": {
      "displayName": "Sathya Jayagopi",
      "userId": "02756045663324277166"
     },
     "user_tz": -60
    },
    "id": "69b4de96"
   },
   "outputs": [],
   "source": []
  },
  {
   "cell_type": "code",
   "execution_count": null,
   "id": "d1de7837",
   "metadata": {
    "executionInfo": {
     "elapsed": 11,
     "status": "aborted",
     "timestamp": 1714049426411,
     "user": {
      "displayName": "Sathya Jayagopi",
      "userId": "02756045663324277166"
     },
     "user_tz": -60
    },
    "id": "d1de7837"
   },
   "outputs": [],
   "source": []
  },
  {
   "cell_type": "code",
   "execution_count": null,
   "id": "da17c76b",
   "metadata": {
    "executionInfo": {
     "elapsed": 11,
     "status": "aborted",
     "timestamp": 1714049426411,
     "user": {
      "displayName": "Sathya Jayagopi",
      "userId": "02756045663324277166"
     },
     "user_tz": -60
    },
    "id": "da17c76b"
   },
   "outputs": [],
   "source": []
  },
  {
   "cell_type": "code",
   "execution_count": null,
   "id": "946c044b",
   "metadata": {
    "executionInfo": {
     "elapsed": 11,
     "status": "aborted",
     "timestamp": 1714049426411,
     "user": {
      "displayName": "Sathya Jayagopi",
      "userId": "02756045663324277166"
     },
     "user_tz": -60
    },
    "id": "946c044b"
   },
   "outputs": [],
   "source": []
  },
  {
   "cell_type": "code",
   "execution_count": null,
   "id": "b9e1d553",
   "metadata": {
    "executionInfo": {
     "elapsed": 12,
     "status": "aborted",
     "timestamp": 1714049426412,
     "user": {
      "displayName": "Sathya Jayagopi",
      "userId": "02756045663324277166"
     },
     "user_tz": -60
    },
    "id": "b9e1d553"
   },
   "outputs": [],
   "source": []
  },
  {
   "cell_type": "code",
   "execution_count": null,
   "id": "d7ea65ba",
   "metadata": {
    "executionInfo": {
     "elapsed": 4998,
     "status": "aborted",
     "timestamp": 1714049426413,
     "user": {
      "displayName": "Sathya Jayagopi",
      "userId": "02756045663324277166"
     },
     "user_tz": -60
    },
    "id": "d7ea65ba"
   },
   "outputs": [],
   "source": []
  }
 ],
 "metadata": {
  "colab": {
   "provenance": []
  },
  "kernelspec": {
   "display_name": "Python 3 (ipykernel)",
   "language": "python",
   "name": "python3"
  },
  "language_info": {
   "codemirror_mode": {
    "name": "ipython",
    "version": 3
   },
   "file_extension": ".py",
   "mimetype": "text/x-python",
   "name": "python",
   "nbconvert_exporter": "python",
   "pygments_lexer": "ipython3",
   "version": "3.11.9"
  }
 },
 "nbformat": 4,
 "nbformat_minor": 5
}
