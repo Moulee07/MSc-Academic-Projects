{
 "cells": [
  {
   "cell_type": "code",
   "execution_count": 46,
   "id": "02b79e20-954a-493d-8352-faf3d0032f89",
   "metadata": {},
   "outputs": [],
   "source": [
    "import pandas as pd\n",
    "import matplotlib.pyplot as plt\n",
    "import seaborn as sns\n",
    "import numpy as np\n",
    "from sklearn.model_selection import train_test_split\n",
    "from sklearn.preprocessing import PolynomialFeatures, StandardScaler\n",
    "from sklearn.linear_model import LinearRegression, Ridge, Lasso,ElasticNet\n",
    "from sklearn.ensemble import RandomForestRegressor\n",
    "from sklearn.svm import SVR\n",
    "from sklearn.neural_network import MLPRegressor\n",
    "from sklearn.metrics import mean_squared_error, r2_score"
   ]
  },
  {
   "cell_type": "code",
   "execution_count": 47,
   "id": "b6b731a6-21b5-4880-874c-fc6130f381d1",
   "metadata": {},
   "outputs": [],
   "source": [
    "# Load the dataset\n",
    "boston_data = pd.read_csv('/Users/mahendra/Documents/Boston.csv')"
   ]
  },
  {
   "cell_type": "code",
   "execution_count": 48,
   "id": "12ad505f-f582-445d-9711-5a0c93a88511",
   "metadata": {},
   "outputs": [
    {
     "name": "stdout",
     "output_type": "stream",
     "text": [
      "Missing Values:\n",
      " crim       0\n",
      "zn         0\n",
      "indus      0\n",
      "chas       0\n",
      "nox        0\n",
      "rm         0\n",
      "age        0\n",
      "dis        0\n",
      "rad        0\n",
      "tax        0\n",
      "ptratio    0\n",
      "black      0\n",
      "lstat      0\n",
      "medv       0\n",
      "dtype: int64\n"
     ]
    }
   ],
   "source": [
    "# Check for missing values\n",
    "missing_values = boston_data.isnull().sum()\n",
    "print(\"Missing Values:\\n\", missing_values)\n",
    "\n",
    "# Define a function to handle outliers using the IQR method\n",
    "def handle_outliers(df, columns):\n",
    "    for column in columns:\n",
    "        Q1 = df[column].quantile(0.25)\n",
    "        Q3 = df[column].quantile(0.75)\n",
    "        IQR = Q3 - Q1\n",
    "        lower_bound = Q1 - 1.5 * IQR\n",
    "        upper_bound = Q3 + 1.5 * IQR\n",
    "        \n",
    "        # Cap the outliers\n",
    "        df[column] = df[column].apply(lambda x: lower_bound if x < lower_bound else x)\n",
    "        df[column] = df[column].apply(lambda x: upper_bound if x > upper_bound else x)\n",
    "        \n",
    "    return df\n"
   ]
  },
  {
   "cell_type": "code",
   "execution_count": 49,
   "id": "ba80f3e7-e192-4f7d-a0cb-9a198b1a3af7",
   "metadata": {},
   "outputs": [],
   "source": [
    "# Apply the outlier handling function to the dataset\n",
    "columns_with_outliers = ['crim', 'zn', 'rm', 'black', 'lstat']\n",
    "boston_data_cleaned = handle_outliers(boston_data.copy(), columns_with_outliers)\n",
    "\n",
    "# Define the features (X) and target (y)\n",
    "X = boston_data_cleaned.drop('crim', axis=1)\n",
    "y = boston_data_cleaned['crim']\n"
   ]
  },
  {
   "cell_type": "code",
   "execution_count": 50,
   "id": "632d9823-a54d-4745-a58d-515ecc79afe7",
   "metadata": {},
   "outputs": [],
   "source": [
    "# Split the data into training and testing sets\n",
    "X_train, X_test, y_train, y_test = train_test_split(X, y, test_size=0.2, random_state=42)\n",
    "\n",
    "# Standardize the features for SVM and MLP\n",
    "scaler = StandardScaler()\n",
    "X_train_scaled = scaler.fit_transform(X_train)\n",
    "X_test_scaled = scaler.transform(X_test)"
   ]
  },
  {
   "cell_type": "code",
   "execution_count": 51,
   "id": "7ed94066-4bf3-40ad-abcf-95212c273428",
   "metadata": {},
   "outputs": [
    {
     "name": "stdout",
     "output_type": "stream",
     "text": [
      "Linear Regression - MSE: 1.2897734324233345 R2: 0.8869846524837794\n"
     ]
    }
   ],
   "source": [
    "# Train and evaluate Linear Regression\n",
    "linear_reg = LinearRegression()\n",
    "linear_reg.fit(X_train, y_train)\n",
    "y_pred = linear_reg.predict(X_test)\n",
    "mse = mean_squared_error(y_test, y_pred)\n",
    "r2 = r2_score(y_test, y_pred)\n",
    "print(\"Linear Regression - MSE:\", mse, \"R2:\", r2)"
   ]
  },
  {
   "cell_type": "code",
   "execution_count": 52,
   "id": "d8f48dc4-7522-4089-8d8b-fd4b319c287d",
   "metadata": {},
   "outputs": [
    {
     "name": "stdout",
     "output_type": "stream",
     "text": [
      "Ridge Regression - MSE: 1.2933167332444493 R2: 0.8866741736325441\n"
     ]
    }
   ],
   "source": [
    "# Train and evaluate Ridge Regression\n",
    "ridge_reg = Ridge(alpha=1.0)\n",
    "ridge_reg.fit(X_train, y_train)\n",
    "y_pred_ridge = ridge_reg.predict(X_test)\n",
    "mse_ridge = mean_squared_error(y_test, y_pred_ridge)\n",
    "r2_ridge = r2_score(y_test, y_pred_ridge)\n",
    "print(\"Ridge Regression - MSE:\", mse_ridge, \"R2:\", r2_ridge)\n"
   ]
  },
  {
   "cell_type": "code",
   "execution_count": 53,
   "id": "11dc4706-00cb-450a-9166-706d0564cd7f",
   "metadata": {},
   "outputs": [
    {
     "name": "stdout",
     "output_type": "stream",
     "text": [
      "Lasso Regression - MSE: 1.3690951216949356 R2: 0.8800341540061047\n"
     ]
    }
   ],
   "source": [
    "# Train and evaluate Lasso Regression\n",
    "lasso_reg = Lasso(alpha=0.1)\n",
    "lasso_reg.fit(X_train, y_train)\n",
    "y_pred_lasso = lasso_reg.predict(X_test)\n",
    "mse_lasso = mean_squared_error(y_test, y_pred_lasso)\n",
    "r2_lasso = r2_score(y_test, y_pred_lasso)\n",
    "print(\"Lasso Regression - MSE:\", mse_lasso, \"R2:\", r2_lasso)"
   ]
  },
  {
   "cell_type": "code",
   "execution_count": 54,
   "id": "417984ba-4334-44af-b5ec-5213d15ba910",
   "metadata": {},
   "outputs": [
    {
     "name": "stdout",
     "output_type": "stream",
     "text": [
      "Elastic Net Regression - MSE: 1.3466185489222644 R2: 0.8820036454059271\n"
     ]
    }
   ],
   "source": [
    "# Train and evaluate Elastic Net Regression\n",
    "elastic_net_reg = ElasticNet(alpha=0.1, l1_ratio=0.5)\n",
    "elastic_net_reg.fit(X_train, y_train)\n",
    "y_pred_enet = elastic_net_reg.predict(X_test)\n",
    "mse_enet = mean_squared_error(y_test, y_pred_enet)\n",
    "r2_enet = r2_score(y_test, y_pred_enet)\n",
    "print(\"Elastic Net Regression - MSE:\", mse_enet, \"R2:\", r2_enet)"
   ]
  },
  {
   "cell_type": "code",
   "execution_count": 55,
   "id": "22fa2532-6c7c-4c06-9e6b-66d2e0040dd3",
   "metadata": {},
   "outputs": [
    {
     "name": "stdout",
     "output_type": "stream",
     "text": [
      "Support Vector Machine (SVM) - MSE: 1.2000210070983905 R2: 0.8948491357205476\n"
     ]
    }
   ],
   "source": [
    "# Train and evaluate Support Vector Machine (SVM)\n",
    "svm_reg = SVR(kernel='rbf', C=1, gamma=0.1, epsilon=.1)\n",
    "svm_reg.fit(X_train_scaled, y_train)\n",
    "y_pred_svm = svm_reg.predict(X_test_scaled)\n",
    "mse_svm = mean_squared_error(y_test, y_pred_svm)\n",
    "r2_svm = r2_score(y_test, y_pred_svm)\n",
    "print(\"Support Vector Machine (SVM) - MSE:\", mse_svm, \"R2:\", r2_svm)"
   ]
  },
  {
   "cell_type": "code",
   "execution_count": 56,
   "id": "f8973581-b96d-499a-8978-fdf4a5f5b930",
   "metadata": {},
   "outputs": [
    {
     "name": "stdout",
     "output_type": "stream",
     "text": [
      "Multi-Layer Perceptron (MLP) - MSE: 0.8041741717788742 R2: 0.929534892561403\n"
     ]
    }
   ],
   "source": [
    "# Train and evaluate Multi-Layer Perceptron (MLP)\n",
    "mlp_reg = MLPRegressor(hidden_layer_sizes=(100, 100, 100), max_iter=1000, random_state=42)\n",
    "mlp_reg.fit(X_train_scaled, y_train)\n",
    "y_pred_mlp = mlp_reg.predict(X_test_scaled)\n",
    "mse_mlp = mean_squared_error(y_test, y_pred_mlp)\n",
    "r2_mlp = r2_score(y_test, y_pred_mlp)\n",
    "print(\"Multi-Layer Perceptron (MLP) - MSE:\", mse_mlp, \"R2:\", r2_mlp)"
   ]
  },
  {
   "cell_type": "code",
   "execution_count": 43,
   "id": "4187a0d1-82b6-4282-9c51-9b21e43c0c94",
   "metadata": {},
   "outputs": [
    {
     "data": {
      "text/plain": [
       "0.1"
      ]
     },
     "execution_count": 43,
     "metadata": {},
     "output_type": "execute_result"
    }
   ],
   "source": [
    "elastic_net_reg.alpha"
   ]
  },
  {
   "cell_type": "code",
   "execution_count": 28,
   "id": "a2874c0e-36d5-4193-a628-66919c708734",
   "metadata": {},
   "outputs": [],
   "source": [
    "check_df = boston_data_cleaned.head(1).drop('crim',axis=1)"
   ]
  },
  {
   "cell_type": "code",
   "execution_count": 29,
   "id": "844fce71-fd37-4a39-ada4-dbf15fd9d669",
   "metadata": {},
   "outputs": [],
   "source": [
    "check_df_scaled = scaler.fit_transform(check_df)"
   ]
  },
  {
   "cell_type": "code",
   "execution_count": 31,
   "id": "85822fae-03ed-41a1-9832-62ee04f85e69",
   "metadata": {},
   "outputs": [
    {
     "data": {
      "text/plain": [
       "array([-0.65677258])"
      ]
     },
     "execution_count": 31,
     "metadata": {},
     "output_type": "execute_result"
    }
   ],
   "source": [
    "linear_reg.predict(check_df)"
   ]
  },
  {
   "cell_type": "code",
   "execution_count": 32,
   "id": "eaec6a34-5b4c-444b-a5c4-61a6a3e29be6",
   "metadata": {},
   "outputs": [
    {
     "data": {
      "text/plain": [
       "array([-0.66164865])"
      ]
     },
     "execution_count": 32,
     "metadata": {},
     "output_type": "execute_result"
    }
   ],
   "source": [
    "ridge_reg.predict(check_df)"
   ]
  },
  {
   "cell_type": "code",
   "execution_count": 33,
   "id": "3513daee-418c-4150-859b-41881e9f880c",
   "metadata": {},
   "outputs": [
    {
     "data": {
      "text/plain": [
       "array([-0.78937814])"
      ]
     },
     "execution_count": 33,
     "metadata": {},
     "output_type": "execute_result"
    }
   ],
   "source": [
    "lasso_reg.predict(check_df)"
   ]
  },
  {
   "cell_type": "code",
   "execution_count": 25,
   "id": "69a7822a-66e5-4383-856e-d77fbce200be",
   "metadata": {},
   "outputs": [
    {
     "data": {
      "text/plain": [
       "array([-0.72944907])"
      ]
     },
     "execution_count": 25,
     "metadata": {},
     "output_type": "execute_result"
    }
   ],
   "source": [
    "elastic_net_reg.predict(check_df)"
   ]
  },
  {
   "cell_type": "code",
   "execution_count": 34,
   "id": "7ab375e1-85f9-4c6e-9ceb-e2d16136c1fe",
   "metadata": {},
   "outputs": [
    {
     "data": {
      "text/plain": [
       "array([0.73690687])"
      ]
     },
     "execution_count": 34,
     "metadata": {},
     "output_type": "execute_result"
    }
   ],
   "source": [
    "svm_reg.predict(check_df_scaled)"
   ]
  },
  {
   "cell_type": "code",
   "execution_count": 35,
   "id": "7436c415-156c-411b-a9c8-967a096d1d17",
   "metadata": {},
   "outputs": [
    {
     "data": {
      "text/plain": [
       "array([0.37689467])"
      ]
     },
     "execution_count": 35,
     "metadata": {},
     "output_type": "execute_result"
    }
   ],
   "source": [
    "mlp_reg.predict(check_df_scaled)"
   ]
  },
  {
   "cell_type": "code",
   "execution_count": 58,
   "id": "9b6ac084-6b3b-4642-8e24-19050035e8cb",
   "metadata": {},
   "outputs": [
    {
     "name": "stdout",
     "output_type": "stream",
     "text": [
      "                            OLS Regression Results                            \n",
      "==============================================================================\n",
      "Dep. Variable:                   crim   R-squared:                       0.895\n",
      "Model:                            OLS   Adj. R-squared:                  0.892\n",
      "Method:                 Least Squares   F-statistic:                     321.3\n",
      "Date:                Fri, 12 Jul 2024   Prob (F-statistic):          1.16e-230\n",
      "Time:                        22:01:50   Log-Likelihood:                -754.38\n",
      "No. Observations:                 506   AIC:                             1537.\n",
      "Df Residuals:                     492   BIC:                             1596.\n",
      "Df Model:                          13                                         \n",
      "Covariance Type:            nonrobust                                         \n",
      "==============================================================================\n",
      "                 coef    std err          t      P>|t|      [0.025      0.975]\n",
      "------------------------------------------------------------------------------\n",
      "const          0.9882      1.700      0.581      0.561      -2.353       4.329\n",
      "zn             0.0090      0.006      1.434      0.152      -0.003       0.021\n",
      "indus         -0.0035      0.014     -0.248      0.804      -0.031       0.024\n",
      "chas          -0.3100      0.200     -1.552      0.121      -0.702       0.082\n",
      "nox            0.9510      0.896      1.061      0.289      -0.810       2.712\n",
      "rm             0.2744      0.117      2.342      0.020       0.044       0.505\n",
      "age           -0.0012      0.003     -0.388      0.698      -0.007       0.005\n",
      "dis           -0.1270      0.047     -2.685      0.007      -0.220      -0.034\n",
      "rad            0.3025      0.015     20.535      0.000       0.274       0.331\n",
      "tax            0.0002      0.001      0.219      0.827      -0.001       0.002\n",
      "ptratio       -0.0635      0.032     -1.959      0.051      -0.127       0.000\n",
      "black         -0.0069      0.003     -2.349      0.019      -0.013      -0.001\n",
      "lstat          0.0711      0.013      5.346      0.000       0.045       0.097\n",
      "medv          -0.0225      0.010     -2.239      0.026      -0.042      -0.003\n",
      "==============================================================================\n",
      "Omnibus:                       47.350   Durbin-Watson:                   0.897\n",
      "Prob(Omnibus):                  0.000   Jarque-Bera (JB):               71.514\n",
      "Skew:                          -0.653   Prob(JB):                     2.96e-16\n",
      "Kurtosis:                       4.299   Cond. No.                     2.10e+04\n",
      "==============================================================================\n",
      "\n",
      "Notes:\n",
      "[1] Standard Errors assume that the covariance matrix of the errors is correctly specified.\n",
      "[2] The condition number is large, 2.1e+04. This might indicate that there are\n",
      "strong multicollinearity or other numerical problems.\n"
     ]
    }
   ],
   "source": [
    "import statsmodels.api as sm\n",
    "import pandas as pd\n",
    "\n",
    "# Add a constant term to the predictors\n",
    "X_multiple = sm.add_constant(X)\n",
    "\n",
    "# Fit a multiple regression model\n",
    "model_multiple = sm.OLS(y, X_multiple).fit()\n",
    "\n",
    "# Print the summary of the model\n",
    "print(model_multiple.summary())\n"
   ]
  }
 ],
 "metadata": {
  "kernelspec": {
   "display_name": "Python 3 (ipykernel)",
   "language": "python",
   "name": "python3"
  },
  "language_info": {
   "codemirror_mode": {
    "name": "ipython",
    "version": 3
   },
   "file_extension": ".py",
   "mimetype": "text/x-python",
   "name": "python",
   "nbconvert_exporter": "python",
   "pygments_lexer": "ipython3",
   "version": "3.11.9"
  }
 },
 "nbformat": 4,
 "nbformat_minor": 5
}
